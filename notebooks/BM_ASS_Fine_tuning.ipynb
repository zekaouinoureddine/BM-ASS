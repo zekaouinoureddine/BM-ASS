{
  "nbformat": 4,
  "nbformat_minor": 0,
  "metadata": {
    "colab": {
      "provenance": [],
      "mount_file_id": "1KKt6A-SEgbIZ3olUNFts5W93YU0ZyZf_",
      "authorship_tag": "ABX9TyMIXPlT8pd4ozsID+/6nEio",
      "include_colab_link": true
    },
    "kernelspec": {
      "name": "python3",
      "display_name": "Python 3"
    },
    "language_info": {
      "name": "python"
    },
    "accelerator": "GPU",
    "gpuClass": "standard",
    "widgets": {
      "application/vnd.jupyter.widget-state+json": {
        "cc4f92ddd33c4295a53ea6ff0ce930f0": {
          "model_module": "@jupyter-widgets/controls",
          "model_name": "HBoxModel",
          "model_module_version": "1.5.0",
          "state": {
            "_dom_classes": [],
            "_model_module": "@jupyter-widgets/controls",
            "_model_module_version": "1.5.0",
            "_model_name": "HBoxModel",
            "_view_count": null,
            "_view_module": "@jupyter-widgets/controls",
            "_view_module_version": "1.5.0",
            "_view_name": "HBoxView",
            "box_style": "",
            "children": [
              "IPY_MODEL_cfeb29e50a1d47ef9fd6ede7a23f92ce",
              "IPY_MODEL_ff626c365c724f81bac1a34bdeb392c9",
              "IPY_MODEL_9ebbd78e7d664323a7c3a30fbea14497"
            ],
            "layout": "IPY_MODEL_18ec522ba8924b90a495abd8f71a5c29"
          }
        },
        "cfeb29e50a1d47ef9fd6ede7a23f92ce": {
          "model_module": "@jupyter-widgets/controls",
          "model_name": "HTMLModel",
          "model_module_version": "1.5.0",
          "state": {
            "_dom_classes": [],
            "_model_module": "@jupyter-widgets/controls",
            "_model_module_version": "1.5.0",
            "_model_name": "HTMLModel",
            "_view_count": null,
            "_view_module": "@jupyter-widgets/controls",
            "_view_module_version": "1.5.0",
            "_view_name": "HTMLView",
            "description": "",
            "description_tooltip": null,
            "layout": "IPY_MODEL_e6b4ab3aa163404da3a8b090371a05d4",
            "placeholder": "​",
            "style": "IPY_MODEL_8a936ac6622c46898725ab8a3cd27d32",
            "value": "Downloading: 100%"
          }
        },
        "ff626c365c724f81bac1a34bdeb392c9": {
          "model_module": "@jupyter-widgets/controls",
          "model_name": "FloatProgressModel",
          "model_module_version": "1.5.0",
          "state": {
            "_dom_classes": [],
            "_model_module": "@jupyter-widgets/controls",
            "_model_module_version": "1.5.0",
            "_model_name": "FloatProgressModel",
            "_view_count": null,
            "_view_module": "@jupyter-widgets/controls",
            "_view_module_version": "1.5.0",
            "_view_name": "ProgressView",
            "bar_style": "success",
            "description": "",
            "description_tooltip": null,
            "layout": "IPY_MODEL_1e271dba29a247c7aefd39d18b314862",
            "max": 791656,
            "min": 0,
            "orientation": "horizontal",
            "style": "IPY_MODEL_d4a3e709534e4655bdc98f4244487df3",
            "value": 791656
          }
        },
        "9ebbd78e7d664323a7c3a30fbea14497": {
          "model_module": "@jupyter-widgets/controls",
          "model_name": "HTMLModel",
          "model_module_version": "1.5.0",
          "state": {
            "_dom_classes": [],
            "_model_module": "@jupyter-widgets/controls",
            "_model_module_version": "1.5.0",
            "_model_name": "HTMLModel",
            "_view_count": null,
            "_view_module": "@jupyter-widgets/controls",
            "_view_module_version": "1.5.0",
            "_view_name": "HTMLView",
            "description": "",
            "description_tooltip": null,
            "layout": "IPY_MODEL_630c274a20ab4faa91a36a9240980b18",
            "placeholder": "​",
            "style": "IPY_MODEL_079c2e6b39ad4fb59f7694830b997cc6",
            "value": " 792k/792k [00:05&lt;00:00, 250kB/s]"
          }
        },
        "18ec522ba8924b90a495abd8f71a5c29": {
          "model_module": "@jupyter-widgets/base",
          "model_name": "LayoutModel",
          "model_module_version": "1.2.0",
          "state": {
            "_model_module": "@jupyter-widgets/base",
            "_model_module_version": "1.2.0",
            "_model_name": "LayoutModel",
            "_view_count": null,
            "_view_module": "@jupyter-widgets/base",
            "_view_module_version": "1.2.0",
            "_view_name": "LayoutView",
            "align_content": null,
            "align_items": null,
            "align_self": null,
            "border": null,
            "bottom": null,
            "display": null,
            "flex": null,
            "flex_flow": null,
            "grid_area": null,
            "grid_auto_columns": null,
            "grid_auto_flow": null,
            "grid_auto_rows": null,
            "grid_column": null,
            "grid_gap": null,
            "grid_row": null,
            "grid_template_areas": null,
            "grid_template_columns": null,
            "grid_template_rows": null,
            "height": null,
            "justify_content": null,
            "justify_items": null,
            "left": null,
            "margin": null,
            "max_height": null,
            "max_width": null,
            "min_height": null,
            "min_width": null,
            "object_fit": null,
            "object_position": null,
            "order": null,
            "overflow": null,
            "overflow_x": null,
            "overflow_y": null,
            "padding": null,
            "right": null,
            "top": null,
            "visibility": null,
            "width": null
          }
        },
        "e6b4ab3aa163404da3a8b090371a05d4": {
          "model_module": "@jupyter-widgets/base",
          "model_name": "LayoutModel",
          "model_module_version": "1.2.0",
          "state": {
            "_model_module": "@jupyter-widgets/base",
            "_model_module_version": "1.2.0",
            "_model_name": "LayoutModel",
            "_view_count": null,
            "_view_module": "@jupyter-widgets/base",
            "_view_module_version": "1.2.0",
            "_view_name": "LayoutView",
            "align_content": null,
            "align_items": null,
            "align_self": null,
            "border": null,
            "bottom": null,
            "display": null,
            "flex": null,
            "flex_flow": null,
            "grid_area": null,
            "grid_auto_columns": null,
            "grid_auto_flow": null,
            "grid_auto_rows": null,
            "grid_column": null,
            "grid_gap": null,
            "grid_row": null,
            "grid_template_areas": null,
            "grid_template_columns": null,
            "grid_template_rows": null,
            "height": null,
            "justify_content": null,
            "justify_items": null,
            "left": null,
            "margin": null,
            "max_height": null,
            "max_width": null,
            "min_height": null,
            "min_width": null,
            "object_fit": null,
            "object_position": null,
            "order": null,
            "overflow": null,
            "overflow_x": null,
            "overflow_y": null,
            "padding": null,
            "right": null,
            "top": null,
            "visibility": null,
            "width": null
          }
        },
        "8a936ac6622c46898725ab8a3cd27d32": {
          "model_module": "@jupyter-widgets/controls",
          "model_name": "DescriptionStyleModel",
          "model_module_version": "1.5.0",
          "state": {
            "_model_module": "@jupyter-widgets/controls",
            "_model_module_version": "1.5.0",
            "_model_name": "DescriptionStyleModel",
            "_view_count": null,
            "_view_module": "@jupyter-widgets/base",
            "_view_module_version": "1.2.0",
            "_view_name": "StyleView",
            "description_width": ""
          }
        },
        "1e271dba29a247c7aefd39d18b314862": {
          "model_module": "@jupyter-widgets/base",
          "model_name": "LayoutModel",
          "model_module_version": "1.2.0",
          "state": {
            "_model_module": "@jupyter-widgets/base",
            "_model_module_version": "1.2.0",
            "_model_name": "LayoutModel",
            "_view_count": null,
            "_view_module": "@jupyter-widgets/base",
            "_view_module_version": "1.2.0",
            "_view_name": "LayoutView",
            "align_content": null,
            "align_items": null,
            "align_self": null,
            "border": null,
            "bottom": null,
            "display": null,
            "flex": null,
            "flex_flow": null,
            "grid_area": null,
            "grid_auto_columns": null,
            "grid_auto_flow": null,
            "grid_auto_rows": null,
            "grid_column": null,
            "grid_gap": null,
            "grid_row": null,
            "grid_template_areas": null,
            "grid_template_columns": null,
            "grid_template_rows": null,
            "height": null,
            "justify_content": null,
            "justify_items": null,
            "left": null,
            "margin": null,
            "max_height": null,
            "max_width": null,
            "min_height": null,
            "min_width": null,
            "object_fit": null,
            "object_position": null,
            "order": null,
            "overflow": null,
            "overflow_x": null,
            "overflow_y": null,
            "padding": null,
            "right": null,
            "top": null,
            "visibility": null,
            "width": null
          }
        },
        "d4a3e709534e4655bdc98f4244487df3": {
          "model_module": "@jupyter-widgets/controls",
          "model_name": "ProgressStyleModel",
          "model_module_version": "1.5.0",
          "state": {
            "_model_module": "@jupyter-widgets/controls",
            "_model_module_version": "1.5.0",
            "_model_name": "ProgressStyleModel",
            "_view_count": null,
            "_view_module": "@jupyter-widgets/base",
            "_view_module_version": "1.2.0",
            "_view_name": "StyleView",
            "bar_color": null,
            "description_width": ""
          }
        },
        "630c274a20ab4faa91a36a9240980b18": {
          "model_module": "@jupyter-widgets/base",
          "model_name": "LayoutModel",
          "model_module_version": "1.2.0",
          "state": {
            "_model_module": "@jupyter-widgets/base",
            "_model_module_version": "1.2.0",
            "_model_name": "LayoutModel",
            "_view_count": null,
            "_view_module": "@jupyter-widgets/base",
            "_view_module_version": "1.2.0",
            "_view_name": "LayoutView",
            "align_content": null,
            "align_items": null,
            "align_self": null,
            "border": null,
            "bottom": null,
            "display": null,
            "flex": null,
            "flex_flow": null,
            "grid_area": null,
            "grid_auto_columns": null,
            "grid_auto_flow": null,
            "grid_auto_rows": null,
            "grid_column": null,
            "grid_gap": null,
            "grid_row": null,
            "grid_template_areas": null,
            "grid_template_columns": null,
            "grid_template_rows": null,
            "height": null,
            "justify_content": null,
            "justify_items": null,
            "left": null,
            "margin": null,
            "max_height": null,
            "max_width": null,
            "min_height": null,
            "min_width": null,
            "object_fit": null,
            "object_position": null,
            "order": null,
            "overflow": null,
            "overflow_x": null,
            "overflow_y": null,
            "padding": null,
            "right": null,
            "top": null,
            "visibility": null,
            "width": null
          }
        },
        "079c2e6b39ad4fb59f7694830b997cc6": {
          "model_module": "@jupyter-widgets/controls",
          "model_name": "DescriptionStyleModel",
          "model_module_version": "1.5.0",
          "state": {
            "_model_module": "@jupyter-widgets/controls",
            "_model_module_version": "1.5.0",
            "_model_name": "DescriptionStyleModel",
            "_view_count": null,
            "_view_module": "@jupyter-widgets/base",
            "_view_module_version": "1.2.0",
            "_view_name": "StyleView",
            "description_width": ""
          }
        },
        "cacc1b121e4c497c8812c2851f6faee1": {
          "model_module": "@jupyter-widgets/controls",
          "model_name": "HBoxModel",
          "model_module_version": "1.5.0",
          "state": {
            "_dom_classes": [],
            "_model_module": "@jupyter-widgets/controls",
            "_model_module_version": "1.5.0",
            "_model_name": "HBoxModel",
            "_view_count": null,
            "_view_module": "@jupyter-widgets/controls",
            "_view_module_version": "1.5.0",
            "_view_name": "HBoxView",
            "box_style": "",
            "children": [
              "IPY_MODEL_0b18d5e0331e4b06a54fd3c752f24130",
              "IPY_MODEL_7aa6d692f2cf47149386564b143d613e",
              "IPY_MODEL_ad59064bd3704539a2245a2f3348d34a"
            ],
            "layout": "IPY_MODEL_48d051031a6248d38b254d97feadbd23"
          }
        },
        "0b18d5e0331e4b06a54fd3c752f24130": {
          "model_module": "@jupyter-widgets/controls",
          "model_name": "HTMLModel",
          "model_module_version": "1.5.0",
          "state": {
            "_dom_classes": [],
            "_model_module": "@jupyter-widgets/controls",
            "_model_module_version": "1.5.0",
            "_model_name": "HTMLModel",
            "_view_count": null,
            "_view_module": "@jupyter-widgets/controls",
            "_view_module_version": "1.5.0",
            "_view_name": "HTMLView",
            "description": "",
            "description_tooltip": null,
            "layout": "IPY_MODEL_769a54425e284f7197442379d5233416",
            "placeholder": "​",
            "style": "IPY_MODEL_f2e22ca9b50a4676aed9789627a44dbf",
            "value": "Downloading: 100%"
          }
        },
        "7aa6d692f2cf47149386564b143d613e": {
          "model_module": "@jupyter-widgets/controls",
          "model_name": "FloatProgressModel",
          "model_module_version": "1.5.0",
          "state": {
            "_dom_classes": [],
            "_model_module": "@jupyter-widgets/controls",
            "_model_module_version": "1.5.0",
            "_model_name": "FloatProgressModel",
            "_view_count": null,
            "_view_module": "@jupyter-widgets/controls",
            "_view_module_version": "1.5.0",
            "_view_name": "ProgressView",
            "bar_style": "success",
            "description": "",
            "description_tooltip": null,
            "layout": "IPY_MODEL_01c3ca3f6405439780ab6ee03936fabd",
            "max": 1208,
            "min": 0,
            "orientation": "horizontal",
            "style": "IPY_MODEL_20a925ebf5374a78b19eecbd5b0e5560",
            "value": 1208
          }
        },
        "ad59064bd3704539a2245a2f3348d34a": {
          "model_module": "@jupyter-widgets/controls",
          "model_name": "HTMLModel",
          "model_module_version": "1.5.0",
          "state": {
            "_dom_classes": [],
            "_model_module": "@jupyter-widgets/controls",
            "_model_module_version": "1.5.0",
            "_model_name": "HTMLModel",
            "_view_count": null,
            "_view_module": "@jupyter-widgets/controls",
            "_view_module_version": "1.5.0",
            "_view_name": "HTMLView",
            "description": "",
            "description_tooltip": null,
            "layout": "IPY_MODEL_dece73bb854a4d6c9af6a05ea1b59a0c",
            "placeholder": "​",
            "style": "IPY_MODEL_08f701f87c73487294bf635132c48a5e",
            "value": " 1.21k/1.21k [00:00&lt;00:00, 24.8kB/s]"
          }
        },
        "48d051031a6248d38b254d97feadbd23": {
          "model_module": "@jupyter-widgets/base",
          "model_name": "LayoutModel",
          "model_module_version": "1.2.0",
          "state": {
            "_model_module": "@jupyter-widgets/base",
            "_model_module_version": "1.2.0",
            "_model_name": "LayoutModel",
            "_view_count": null,
            "_view_module": "@jupyter-widgets/base",
            "_view_module_version": "1.2.0",
            "_view_name": "LayoutView",
            "align_content": null,
            "align_items": null,
            "align_self": null,
            "border": null,
            "bottom": null,
            "display": null,
            "flex": null,
            "flex_flow": null,
            "grid_area": null,
            "grid_auto_columns": null,
            "grid_auto_flow": null,
            "grid_auto_rows": null,
            "grid_column": null,
            "grid_gap": null,
            "grid_row": null,
            "grid_template_areas": null,
            "grid_template_columns": null,
            "grid_template_rows": null,
            "height": null,
            "justify_content": null,
            "justify_items": null,
            "left": null,
            "margin": null,
            "max_height": null,
            "max_width": null,
            "min_height": null,
            "min_width": null,
            "object_fit": null,
            "object_position": null,
            "order": null,
            "overflow": null,
            "overflow_x": null,
            "overflow_y": null,
            "padding": null,
            "right": null,
            "top": null,
            "visibility": null,
            "width": null
          }
        },
        "769a54425e284f7197442379d5233416": {
          "model_module": "@jupyter-widgets/base",
          "model_name": "LayoutModel",
          "model_module_version": "1.2.0",
          "state": {
            "_model_module": "@jupyter-widgets/base",
            "_model_module_version": "1.2.0",
            "_model_name": "LayoutModel",
            "_view_count": null,
            "_view_module": "@jupyter-widgets/base",
            "_view_module_version": "1.2.0",
            "_view_name": "LayoutView",
            "align_content": null,
            "align_items": null,
            "align_self": null,
            "border": null,
            "bottom": null,
            "display": null,
            "flex": null,
            "flex_flow": null,
            "grid_area": null,
            "grid_auto_columns": null,
            "grid_auto_flow": null,
            "grid_auto_rows": null,
            "grid_column": null,
            "grid_gap": null,
            "grid_row": null,
            "grid_template_areas": null,
            "grid_template_columns": null,
            "grid_template_rows": null,
            "height": null,
            "justify_content": null,
            "justify_items": null,
            "left": null,
            "margin": null,
            "max_height": null,
            "max_width": null,
            "min_height": null,
            "min_width": null,
            "object_fit": null,
            "object_position": null,
            "order": null,
            "overflow": null,
            "overflow_x": null,
            "overflow_y": null,
            "padding": null,
            "right": null,
            "top": null,
            "visibility": null,
            "width": null
          }
        },
        "f2e22ca9b50a4676aed9789627a44dbf": {
          "model_module": "@jupyter-widgets/controls",
          "model_name": "DescriptionStyleModel",
          "model_module_version": "1.5.0",
          "state": {
            "_model_module": "@jupyter-widgets/controls",
            "_model_module_version": "1.5.0",
            "_model_name": "DescriptionStyleModel",
            "_view_count": null,
            "_view_module": "@jupyter-widgets/base",
            "_view_module_version": "1.2.0",
            "_view_name": "StyleView",
            "description_width": ""
          }
        },
        "01c3ca3f6405439780ab6ee03936fabd": {
          "model_module": "@jupyter-widgets/base",
          "model_name": "LayoutModel",
          "model_module_version": "1.2.0",
          "state": {
            "_model_module": "@jupyter-widgets/base",
            "_model_module_version": "1.2.0",
            "_model_name": "LayoutModel",
            "_view_count": null,
            "_view_module": "@jupyter-widgets/base",
            "_view_module_version": "1.2.0",
            "_view_name": "LayoutView",
            "align_content": null,
            "align_items": null,
            "align_self": null,
            "border": null,
            "bottom": null,
            "display": null,
            "flex": null,
            "flex_flow": null,
            "grid_area": null,
            "grid_auto_columns": null,
            "grid_auto_flow": null,
            "grid_auto_rows": null,
            "grid_column": null,
            "grid_gap": null,
            "grid_row": null,
            "grid_template_areas": null,
            "grid_template_columns": null,
            "grid_template_rows": null,
            "height": null,
            "justify_content": null,
            "justify_items": null,
            "left": null,
            "margin": null,
            "max_height": null,
            "max_width": null,
            "min_height": null,
            "min_width": null,
            "object_fit": null,
            "object_position": null,
            "order": null,
            "overflow": null,
            "overflow_x": null,
            "overflow_y": null,
            "padding": null,
            "right": null,
            "top": null,
            "visibility": null,
            "width": null
          }
        },
        "20a925ebf5374a78b19eecbd5b0e5560": {
          "model_module": "@jupyter-widgets/controls",
          "model_name": "ProgressStyleModel",
          "model_module_version": "1.5.0",
          "state": {
            "_model_module": "@jupyter-widgets/controls",
            "_model_module_version": "1.5.0",
            "_model_name": "ProgressStyleModel",
            "_view_count": null,
            "_view_module": "@jupyter-widgets/base",
            "_view_module_version": "1.2.0",
            "_view_name": "StyleView",
            "bar_color": null,
            "description_width": ""
          }
        },
        "dece73bb854a4d6c9af6a05ea1b59a0c": {
          "model_module": "@jupyter-widgets/base",
          "model_name": "LayoutModel",
          "model_module_version": "1.2.0",
          "state": {
            "_model_module": "@jupyter-widgets/base",
            "_model_module_version": "1.2.0",
            "_model_name": "LayoutModel",
            "_view_count": null,
            "_view_module": "@jupyter-widgets/base",
            "_view_module_version": "1.2.0",
            "_view_name": "LayoutView",
            "align_content": null,
            "align_items": null,
            "align_self": null,
            "border": null,
            "bottom": null,
            "display": null,
            "flex": null,
            "flex_flow": null,
            "grid_area": null,
            "grid_auto_columns": null,
            "grid_auto_flow": null,
            "grid_auto_rows": null,
            "grid_column": null,
            "grid_gap": null,
            "grid_row": null,
            "grid_template_areas": null,
            "grid_template_columns": null,
            "grid_template_rows": null,
            "height": null,
            "justify_content": null,
            "justify_items": null,
            "left": null,
            "margin": null,
            "max_height": null,
            "max_width": null,
            "min_height": null,
            "min_width": null,
            "object_fit": null,
            "object_position": null,
            "order": null,
            "overflow": null,
            "overflow_x": null,
            "overflow_y": null,
            "padding": null,
            "right": null,
            "top": null,
            "visibility": null,
            "width": null
          }
        },
        "08f701f87c73487294bf635132c48a5e": {
          "model_module": "@jupyter-widgets/controls",
          "model_name": "DescriptionStyleModel",
          "model_module_version": "1.5.0",
          "state": {
            "_model_module": "@jupyter-widgets/controls",
            "_model_module_version": "1.5.0",
            "_model_name": "DescriptionStyleModel",
            "_view_count": null,
            "_view_module": "@jupyter-widgets/base",
            "_view_module_version": "1.2.0",
            "_view_name": "StyleView",
            "description_width": ""
          }
        },
        "705381a7d6654703b1150b17d4074e9d": {
          "model_module": "@jupyter-widgets/controls",
          "model_name": "HBoxModel",
          "model_module_version": "1.5.0",
          "state": {
            "_dom_classes": [],
            "_model_module": "@jupyter-widgets/controls",
            "_model_module_version": "1.5.0",
            "_model_name": "HBoxModel",
            "_view_count": null,
            "_view_module": "@jupyter-widgets/controls",
            "_view_module_version": "1.5.0",
            "_view_name": "HBoxView",
            "box_style": "",
            "children": [
              "IPY_MODEL_b2c3fc92829949e1b12a64dd9a6c8874",
              "IPY_MODEL_bdef1c9769b549698689042a0aa09a4a",
              "IPY_MODEL_d20194248c0041cbb8b442d224a58524"
            ],
            "layout": "IPY_MODEL_c130d64bfe984a5990901c6501dc22be"
          }
        },
        "b2c3fc92829949e1b12a64dd9a6c8874": {
          "model_module": "@jupyter-widgets/controls",
          "model_name": "HTMLModel",
          "model_module_version": "1.5.0",
          "state": {
            "_dom_classes": [],
            "_model_module": "@jupyter-widgets/controls",
            "_model_module_version": "1.5.0",
            "_model_name": "HTMLModel",
            "_view_count": null,
            "_view_module": "@jupyter-widgets/controls",
            "_view_module_version": "1.5.0",
            "_view_name": "HTMLView",
            "description": "",
            "description_tooltip": null,
            "layout": "IPY_MODEL_ca2c15d39ad94a9b862eadae66fb43c8",
            "placeholder": "​",
            "style": "IPY_MODEL_ce8cc578fb8442b0b95ee150e86e1463",
            "value": "Downloading: 100%"
          }
        },
        "bdef1c9769b549698689042a0aa09a4a": {
          "model_module": "@jupyter-widgets/controls",
          "model_name": "FloatProgressModel",
          "model_module_version": "1.5.0",
          "state": {
            "_dom_classes": [],
            "_model_module": "@jupyter-widgets/controls",
            "_model_module_version": "1.5.0",
            "_model_name": "FloatProgressModel",
            "_view_count": null,
            "_view_module": "@jupyter-widgets/controls",
            "_view_module_version": "1.5.0",
            "_view_name": "ProgressView",
            "bar_style": "success",
            "description": "",
            "description_tooltip": null,
            "layout": "IPY_MODEL_a8b8a4cd0483482fb1fcfe2419580881",
            "max": 891691430,
            "min": 0,
            "orientation": "horizontal",
            "style": "IPY_MODEL_8448e093892c4e2292c8347b2e427b0b",
            "value": 891691430
          }
        },
        "d20194248c0041cbb8b442d224a58524": {
          "model_module": "@jupyter-widgets/controls",
          "model_name": "HTMLModel",
          "model_module_version": "1.5.0",
          "state": {
            "_dom_classes": [],
            "_model_module": "@jupyter-widgets/controls",
            "_model_module_version": "1.5.0",
            "_model_name": "HTMLModel",
            "_view_count": null,
            "_view_module": "@jupyter-widgets/controls",
            "_view_module_version": "1.5.0",
            "_view_name": "HTMLView",
            "description": "",
            "description_tooltip": null,
            "layout": "IPY_MODEL_effda58fd8f143c294ff4b58545e6f63",
            "placeholder": "​",
            "style": "IPY_MODEL_bc5d3887befa4a599b3ed5a3a4f71f03",
            "value": " 892M/892M [00:23&lt;00:00, 20.6MB/s]"
          }
        },
        "c130d64bfe984a5990901c6501dc22be": {
          "model_module": "@jupyter-widgets/base",
          "model_name": "LayoutModel",
          "model_module_version": "1.2.0",
          "state": {
            "_model_module": "@jupyter-widgets/base",
            "_model_module_version": "1.2.0",
            "_model_name": "LayoutModel",
            "_view_count": null,
            "_view_module": "@jupyter-widgets/base",
            "_view_module_version": "1.2.0",
            "_view_name": "LayoutView",
            "align_content": null,
            "align_items": null,
            "align_self": null,
            "border": null,
            "bottom": null,
            "display": null,
            "flex": null,
            "flex_flow": null,
            "grid_area": null,
            "grid_auto_columns": null,
            "grid_auto_flow": null,
            "grid_auto_rows": null,
            "grid_column": null,
            "grid_gap": null,
            "grid_row": null,
            "grid_template_areas": null,
            "grid_template_columns": null,
            "grid_template_rows": null,
            "height": null,
            "justify_content": null,
            "justify_items": null,
            "left": null,
            "margin": null,
            "max_height": null,
            "max_width": null,
            "min_height": null,
            "min_width": null,
            "object_fit": null,
            "object_position": null,
            "order": null,
            "overflow": null,
            "overflow_x": null,
            "overflow_y": null,
            "padding": null,
            "right": null,
            "top": null,
            "visibility": null,
            "width": null
          }
        },
        "ca2c15d39ad94a9b862eadae66fb43c8": {
          "model_module": "@jupyter-widgets/base",
          "model_name": "LayoutModel",
          "model_module_version": "1.2.0",
          "state": {
            "_model_module": "@jupyter-widgets/base",
            "_model_module_version": "1.2.0",
            "_model_name": "LayoutModel",
            "_view_count": null,
            "_view_module": "@jupyter-widgets/base",
            "_view_module_version": "1.2.0",
            "_view_name": "LayoutView",
            "align_content": null,
            "align_items": null,
            "align_self": null,
            "border": null,
            "bottom": null,
            "display": null,
            "flex": null,
            "flex_flow": null,
            "grid_area": null,
            "grid_auto_columns": null,
            "grid_auto_flow": null,
            "grid_auto_rows": null,
            "grid_column": null,
            "grid_gap": null,
            "grid_row": null,
            "grid_template_areas": null,
            "grid_template_columns": null,
            "grid_template_rows": null,
            "height": null,
            "justify_content": null,
            "justify_items": null,
            "left": null,
            "margin": null,
            "max_height": null,
            "max_width": null,
            "min_height": null,
            "min_width": null,
            "object_fit": null,
            "object_position": null,
            "order": null,
            "overflow": null,
            "overflow_x": null,
            "overflow_y": null,
            "padding": null,
            "right": null,
            "top": null,
            "visibility": null,
            "width": null
          }
        },
        "ce8cc578fb8442b0b95ee150e86e1463": {
          "model_module": "@jupyter-widgets/controls",
          "model_name": "DescriptionStyleModel",
          "model_module_version": "1.5.0",
          "state": {
            "_model_module": "@jupyter-widgets/controls",
            "_model_module_version": "1.5.0",
            "_model_name": "DescriptionStyleModel",
            "_view_count": null,
            "_view_module": "@jupyter-widgets/base",
            "_view_module_version": "1.2.0",
            "_view_name": "StyleView",
            "description_width": ""
          }
        },
        "a8b8a4cd0483482fb1fcfe2419580881": {
          "model_module": "@jupyter-widgets/base",
          "model_name": "LayoutModel",
          "model_module_version": "1.2.0",
          "state": {
            "_model_module": "@jupyter-widgets/base",
            "_model_module_version": "1.2.0",
            "_model_name": "LayoutModel",
            "_view_count": null,
            "_view_module": "@jupyter-widgets/base",
            "_view_module_version": "1.2.0",
            "_view_name": "LayoutView",
            "align_content": null,
            "align_items": null,
            "align_self": null,
            "border": null,
            "bottom": null,
            "display": null,
            "flex": null,
            "flex_flow": null,
            "grid_area": null,
            "grid_auto_columns": null,
            "grid_auto_flow": null,
            "grid_auto_rows": null,
            "grid_column": null,
            "grid_gap": null,
            "grid_row": null,
            "grid_template_areas": null,
            "grid_template_columns": null,
            "grid_template_rows": null,
            "height": null,
            "justify_content": null,
            "justify_items": null,
            "left": null,
            "margin": null,
            "max_height": null,
            "max_width": null,
            "min_height": null,
            "min_width": null,
            "object_fit": null,
            "object_position": null,
            "order": null,
            "overflow": null,
            "overflow_x": null,
            "overflow_y": null,
            "padding": null,
            "right": null,
            "top": null,
            "visibility": null,
            "width": null
          }
        },
        "8448e093892c4e2292c8347b2e427b0b": {
          "model_module": "@jupyter-widgets/controls",
          "model_name": "ProgressStyleModel",
          "model_module_version": "1.5.0",
          "state": {
            "_model_module": "@jupyter-widgets/controls",
            "_model_module_version": "1.5.0",
            "_model_name": "ProgressStyleModel",
            "_view_count": null,
            "_view_module": "@jupyter-widgets/base",
            "_view_module_version": "1.2.0",
            "_view_name": "StyleView",
            "bar_color": null,
            "description_width": ""
          }
        },
        "effda58fd8f143c294ff4b58545e6f63": {
          "model_module": "@jupyter-widgets/base",
          "model_name": "LayoutModel",
          "model_module_version": "1.2.0",
          "state": {
            "_model_module": "@jupyter-widgets/base",
            "_model_module_version": "1.2.0",
            "_model_name": "LayoutModel",
            "_view_count": null,
            "_view_module": "@jupyter-widgets/base",
            "_view_module_version": "1.2.0",
            "_view_name": "LayoutView",
            "align_content": null,
            "align_items": null,
            "align_self": null,
            "border": null,
            "bottom": null,
            "display": null,
            "flex": null,
            "flex_flow": null,
            "grid_area": null,
            "grid_auto_columns": null,
            "grid_auto_flow": null,
            "grid_auto_rows": null,
            "grid_column": null,
            "grid_gap": null,
            "grid_row": null,
            "grid_template_areas": null,
            "grid_template_columns": null,
            "grid_template_rows": null,
            "height": null,
            "justify_content": null,
            "justify_items": null,
            "left": null,
            "margin": null,
            "max_height": null,
            "max_width": null,
            "min_height": null,
            "min_width": null,
            "object_fit": null,
            "object_position": null,
            "order": null,
            "overflow": null,
            "overflow_x": null,
            "overflow_y": null,
            "padding": null,
            "right": null,
            "top": null,
            "visibility": null,
            "width": null
          }
        },
        "bc5d3887befa4a599b3ed5a3a4f71f03": {
          "model_module": "@jupyter-widgets/controls",
          "model_name": "DescriptionStyleModel",
          "model_module_version": "1.5.0",
          "state": {
            "_model_module": "@jupyter-widgets/controls",
            "_model_module_version": "1.5.0",
            "_model_name": "DescriptionStyleModel",
            "_view_count": null,
            "_view_module": "@jupyter-widgets/base",
            "_view_module_version": "1.2.0",
            "_view_name": "StyleView",
            "description_width": ""
          }
        }
      }
    }
  },
  "cells": [
    {
      "cell_type": "markdown",
      "metadata": {
        "id": "view-in-github",
        "colab_type": "text"
      },
      "source": [
        "<a href=\"https://colab.research.google.com/github/zekaouinoureddine/BM-ASS/blob/master/notebooks/BM_ASS_Fine_tuning.ipynb\" target=\"_parent\"><img src=\"https://colab.research.google.com/assets/colab-badge.svg\" alt=\"Open In Colab\"/></a>"
      ]
    },
    {
      "cell_type": "markdown",
      "source": [
        "---\n",
        "**<h1 align=\"center\"> BM-ASS: Fine-tuning </h1>**\n",
        "\n",
        "---"
      ],
      "metadata": {
        "id": "pT6Jxd_Qb0zV"
      }
    },
    {
      "cell_type": "code",
      "source": [
        "!pip install datasets --quiet\n",
        "!pip install transformers --quiet\n",
        "!pip install sentencepiece --quiet"
      ],
      "metadata": {
        "colab": {
          "base_uri": "https://localhost:8080/"
        },
        "id": "NS6PLM3Gb0a3",
        "outputId": "4e025278-7a75-448c-ec3d-9652583eb751"
      },
      "execution_count": null,
      "outputs": [
        {
          "output_type": "stream",
          "name": "stdout",
          "text": [
            "\u001b[2K     \u001b[90m━━━━━━━━━━━━━━━━━━━━━━━━━━━━━━━━━━━━━━\u001b[0m \u001b[32m452.9/452.9 KB\u001b[0m \u001b[31m29.7 MB/s\u001b[0m eta \u001b[36m0:00:00\u001b[0m\n",
            "\u001b[2K     \u001b[90m━━━━━━━━━━━━━━━━━━━━━━━━━━━━━━━━━━━━━━\u001b[0m \u001b[32m132.0/132.0 KB\u001b[0m \u001b[31m18.8 MB/s\u001b[0m eta \u001b[36m0:00:00\u001b[0m\n",
            "\u001b[2K     \u001b[90m━━━━━━━━━━━━━━━━━━━━━━━━━━━━━━━━━━━━━━\u001b[0m \u001b[32m213.0/213.0 KB\u001b[0m \u001b[31m27.5 MB/s\u001b[0m eta \u001b[36m0:00:00\u001b[0m\n",
            "\u001b[2K     \u001b[90m━━━━━━━━━━━━━━━━━━━━━━━━━━━━━━━━━━━━━━\u001b[0m \u001b[32m182.4/182.4 KB\u001b[0m \u001b[31m24.9 MB/s\u001b[0m eta \u001b[36m0:00:00\u001b[0m\n",
            "\u001b[2K     \u001b[90m━━━━━━━━━━━━━━━━━━━━━━━━━━━━━━━━━━━━━━\u001b[0m \u001b[32m140.6/140.6 KB\u001b[0m \u001b[31m15.7 MB/s\u001b[0m eta \u001b[36m0:00:00\u001b[0m\n",
            "\u001b[2K     \u001b[90m━━━━━━━━━━━━━━━━━━━━━━━━━━━━━━━━━━━━━━━━\u001b[0m \u001b[32m5.8/5.8 MB\u001b[0m \u001b[31m31.1 MB/s\u001b[0m eta \u001b[36m0:00:00\u001b[0m\n",
            "\u001b[2K     \u001b[90m━━━━━━━━━━━━━━━━━━━━━━━━━━━━━━━━━━━━━━━━\u001b[0m \u001b[32m7.6/7.6 MB\u001b[0m \u001b[31m53.0 MB/s\u001b[0m eta \u001b[36m0:00:00\u001b[0m\n",
            "\u001b[2K     \u001b[90m━━━━━━━━━━━━━━━━━━━━━━━━━━━━━━━━━━━━━━━━\u001b[0m \u001b[32m1.3/1.3 MB\u001b[0m \u001b[31m52.5 MB/s\u001b[0m eta \u001b[36m0:00:00\u001b[0m\n",
            "\u001b[?25h"
          ]
        }
      ]
    },
    {
      "cell_type": "code",
      "source": [
        "!pip install rouge_score --quiet"
      ],
      "metadata": {
        "colab": {
          "base_uri": "https://localhost:8080/"
        },
        "id": "WkA9-Rau4ISo",
        "outputId": "7fcacfba-970e-4424-8b97-008080d0f73b"
      },
      "execution_count": null,
      "outputs": [
        {
          "output_type": "stream",
          "name": "stdout",
          "text": [
            "  Preparing metadata (setup.py) ... \u001b[?25l\u001b[?25hdone\n",
            "  Building wheel for rouge_score (setup.py) ... \u001b[?25l\u001b[?25hdone\n"
          ]
        }
      ]
    },
    {
      "cell_type": "markdown",
      "source": [
        "### Import Libs"
      ],
      "metadata": {
        "id": "tyHUt0fackth"
      }
    },
    {
      "cell_type": "code",
      "execution_count": null,
      "metadata": {
        "id": "IOVlF3oVbwaA",
        "colab": {
          "base_uri": "https://localhost:8080/"
        },
        "outputId": "4687622d-962c-4ee9-aafe-36ab03ecaacf"
      },
      "outputs": [
        {
          "output_type": "stream",
          "name": "stderr",
          "text": [
            "[nltk_data] Downloading package punkt to /root/nltk_data...\n",
            "[nltk_data]   Unzipping tokenizers/punkt.zip.\n"
          ]
        }
      ],
      "source": [
        "import os\n",
        "import textwrap\n",
        "\n",
        "import numpy as np\n",
        "import pandas as pd\n",
        "import seaborn as sns\n",
        "import matplotlib.pyplot as plt\n",
        "\n",
        "import torch\n",
        "import torch.nn as nn\n",
        "import torch.nn.functional as F\n",
        "from torch.utils.data import Dataset, DataLoader\n",
        "\n",
        "from sklearn.model_selection import train_test_split\n",
        "from datasets import load_dataset, load_metric\n",
        "from transformers import T5Tokenizer, AdamW, T5ForConditionalGeneration\n",
        "\n",
        "from tqdm import tqdm\n",
        "from termcolor import colored\n",
        "from collections import defaultdict\n",
        "from IPython.display import display, HTML\n",
        "\n",
        "import nltk\n",
        "nltk.download('punkt')\n",
        "\n",
        "import warnings\n",
        "warnings.filterwarnings('ignore')"
      ]
    },
    {
      "cell_type": "markdown",
      "source": [
        "### Utils"
      ],
      "metadata": {
        "id": "k7aqNDakKhzx"
      }
    },
    {
      "cell_type": "code",
      "source": [
        "def get_cnn_daily_mail_dataset():\n",
        "  dataset = load_dataset(\"cnn_dailymail\", '3.0.0')\n",
        "  data = pd.DataFrame({\n",
        "      \"article\": dataset[\"train\"][\"article\"],\n",
        "      \"highlights\": dataset[\"train\"][\"highlights\"],\n",
        "      })\n",
        "  return data\n",
        "\n",
        "\n",
        "def plot_tokens_count(article, highlights):\n",
        "  arti_token_lens = []\n",
        "  high_token_lens = []\n",
        "\n",
        "  for article, highlights in zip(article, highlights):\n",
        "    arti_token_lens.append(len(article.split()))\n",
        "    high_token_lens.append(len(highlights.split()))\n",
        "\n",
        "  sns.set(style='darkgrid')\n",
        "  sns.set(font_scale=1.5)\n",
        "\n",
        "  plt.subplots(figsize=(16, 6))\n",
        "\n",
        "  plt.subplot(1, 2, 1)\n",
        "  plt.hist(arti_token_lens, color='red', bins=50, alpha=0.5)\n",
        "  plt.title('Article Tokens Count')\n",
        "  plt.xlabel('Tokens Count')\n",
        "  plt.ylabel('Frequency')\n",
        "\n",
        "  plt.subplot(1, 2, 2)\n",
        "  plt.hist(arti_token_lens, color='red', bins=50, alpha=0.5)\n",
        "  plt.title('Highlights Tokens Count')\n",
        "  plt.xlabel('Tokens Count')\n",
        "  plt.ylabel('Frequency')\n",
        "\n",
        "  plt.tight_layout(4)\n",
        "\n",
        "  plt.show();\n",
        "\n",
        "  \n",
        "def get_metrics(predictions, labels, metric:str):\n",
        "  # Rouge expects a newline after each sentence\n",
        "  decoded_preds = [\"\\n\".join(nltk.sent_tokenize(pred.strip())) for pred in predictions]\n",
        "  decoded_labels = [\"\\n\".join(nltk.sent_tokenize(label.strip())) for label in labels]\n",
        "  \n",
        "  metric = load_metric(metric)\n",
        "  result = metric.compute(predictions=decoded_preds, references=decoded_labels, use_stemmer=True)\n",
        "  \n",
        "  # Generate few results\n",
        "  result = {key: value.mid.fmeasure * 100 for key, value in result.items()}\n",
        "  \n",
        "  # Add mean generated length\n",
        "  prediction_lens = [np.count_nonzero(pred != Config.TOKENIZER.pad_token_id) for pred in predictions]\n",
        "  result[\"GenLen\"] = np.mean(prediction_lens)\n",
        "  metrics =  {k: round(v, 4) for k, v in result.items()}\n",
        "  results_df = pd.DataFrame(metrics, index=[\"Results\"])\n",
        "  results_df.columns = results_df.columns.str.capitalize()\n",
        "  return results_df"
      ],
      "metadata": {
        "id": "AKCy4PEMKi3o"
      },
      "execution_count": 17,
      "outputs": []
    },
    {
      "cell_type": "code",
      "source": [
        "data_ = get_cnn_daily_mail_dataset()\n",
        "display(HTML(data_.head(2).to_html()))"
      ],
      "metadata": {
        "colab": {
          "base_uri": "https://localhost:8080/",
          "height": 702
        },
        "id": "tREnukc2LdT2",
        "outputId": "9a81753a-7803-4bd7-e344-db0a9f5eb5e1"
      },
      "execution_count": null,
      "outputs": [
        {
          "output_type": "display_data",
          "data": {
            "text/plain": [
              "<IPython.core.display.HTML object>"
            ],
            "text/html": [
              "<table border=\"1\" class=\"dataframe\">\n",
              "  <thead>\n",
              "    <tr style=\"text-align: right;\">\n",
              "      <th></th>\n",
              "      <th>article</th>\n",
              "      <th>highlights</th>\n",
              "    </tr>\n",
              "  </thead>\n",
              "  <tbody>\n",
              "    <tr>\n",
              "      <th>0</th>\n",
              "      <td>LONDON, England (Reuters) -- Harry Potter star Daniel Radcliffe gains access to a reported £20 million ($41.1 million) fortune as he turns 18 on Monday, but he insists the money won't cast a spell on him. Daniel Radcliffe as Harry Potter in \"Harry Potter and the Order of the Phoenix\" To the disappointment of gossip columnists around the world, the young actor says he has no plans to fritter his cash away on fast cars, drink and celebrity parties. \"I don't plan to be one of those people who, as soon as they turn 18, suddenly buy themselves a massive sports car collection or something similar,\" he told an Australian interviewer earlier this month. \"I don't think I'll be particularly extravagant. \"The things I like buying are things that cost about 10 pounds -- books and CDs and DVDs.\" At 18, Radcliffe will be able to gamble in a casino, buy a drink in a pub or see the horror film \"Hostel: Part II,\" currently six places below his number one movie on the UK box office chart. Details of how he'll mark his landmark birthday are under wraps. His agent and publicist had no comment on his plans. \"I'll definitely have some sort of party,\" he said in an interview. \"Hopefully none of you will be reading about it.\" Radcliffe's earnings from the first five Potter films have been held in a trust fund which he has not been able to touch. Despite his growing fame and riches, the actor says he is keeping his feet firmly on the ground. \"People are always looking to say 'kid star goes off the rails,'\" he told reporters last month. \"But I try very hard not to go that way because it would be too easy for them.\" His latest outing as the boy wizard in \"Harry Potter and the Order of the Phoenix\" is breaking records on both sides of the Atlantic and he will reprise the role in the last two films.  Watch I-Reporter give her review of Potter's latest » . There is life beyond Potter, however. The Londoner has filmed a TV movie called \"My Boy Jack,\" about author Rudyard Kipling and his son, due for release later this year. He will also appear in \"December Boys,\" an Australian film about four boys who escape an orphanage. Earlier this year, he made his stage debut playing a tortured teenager in Peter Shaffer's \"Equus.\" Meanwhile, he is braced for even closer media scrutiny now that he's legally an adult: \"I just think I'm going to be more sort of fair game,\" he told Reuters. E-mail to a friend . Copyright 2007 Reuters. All rights reserved.This material may not be published, broadcast, rewritten, or redistributed.</td>\n",
              "      <td>Harry Potter star Daniel Radcliffe gets £20M fortune as he turns 18 Monday .\\nYoung actor says he has no plans to fritter his cash away .\\nRadcliffe's earnings from first five Potter films have been held in trust fund .</td>\n",
              "    </tr>\n",
              "    <tr>\n",
              "      <th>1</th>\n",
              "      <td>Editor's note: In our Behind the Scenes series, CNN correspondents share their experiences in covering news and analyze the stories behind the events. Here, Soledad O'Brien takes users inside a jail where many of the inmates are mentally ill. An inmate housed on the \"forgotten floor,\" where many mentally ill inmates are housed in Miami before trial. MIAMI, Florida (CNN) -- The ninth floor of the Miami-Dade pretrial detention facility is dubbed the \"forgotten floor.\" Here, inmates with the most severe mental illnesses are incarcerated until they're ready to appear in court. Most often, they face drug charges or charges of assaulting an officer --charges that Judge Steven Leifman says are usually \"avoidable felonies.\" He says the arrests often result from confrontations with police. Mentally ill people often won't do what they're told when police arrive on the scene -- confrontation seems to exacerbate their illness and they become more paranoid, delusional, and less likely to follow directions, according to Leifman. So, they end up on the ninth floor severely mentally disturbed, but not getting any real help because they're in jail. We toured the jail with Leifman. He is well known in Miami as an advocate for justice and the mentally ill. Even though we were not exactly welcomed with open arms by the guards, we were given permission to shoot videotape and tour the floor.  Go inside the 'forgotten floor' » . At first, it's hard to determine where the people are. The prisoners are wearing sleeveless robes. Imagine cutting holes for arms and feet in a heavy wool sleeping bag -- that's kind of what they look like. They're designed to keep the mentally ill patients from injuring themselves. That's also why they have no shoes, laces or mattresses. Leifman says about one-third of all people in Miami-Dade county jails are mentally ill. So, he says, the sheer volume is overwhelming the system, and the result is what we see on the ninth floor. Of course, it is a jail, so it's not supposed to be warm and comforting, but the lights glare, the cells are tiny and it's loud. We see two, sometimes three men -- sometimes in the robes, sometimes naked, lying or sitting in their cells. \"I am the son of the president. You need to get me out of here!\" one man shouts at me. He is absolutely serious, convinced that help is on the way -- if only he could reach the White House. Leifman tells me that these prisoner-patients will often circulate through the system, occasionally stabilizing in a mental hospital, only to return to jail to face their charges. It's brutally unjust, in his mind, and he has become a strong advocate for changing things in Miami. Over a meal later, we talk about how things got this way for mental patients. Leifman says 200 years ago people were considered \"lunatics\" and they were locked up in jails even if they had no charges against them. They were just considered unfit to be in society. Over the years, he says, there was some public outcry, and the mentally ill were moved out of jails and into hospitals. But Leifman says many of these mental hospitals were so horrible they were shut down. Where did the patients go? Nowhere. The streets. They became, in many cases, the homeless, he says. They never got treatment. Leifman says in 1955 there were more than half a million people in state mental hospitals, and today that number has been reduced 90 percent, and 40,000 to 50,000 people are in mental hospitals. The judge says he's working to change this. Starting in 2008, many inmates who would otherwise have been brought to the \"forgotten floor\"  will instead be sent to a new mental health facility -- the first step on a journey toward long-term treatment, not just punishment. Leifman says it's not the complete answer, but it's a start. Leifman says the best part is that it's a win-win solution. The patients win, the families are relieved, and the state saves money by simply not cycling these prisoners through again and again. And, for Leifman, justice is served. E-mail to a friend .</td>\n",
              "      <td>Mentally ill inmates in Miami are housed on the \"forgotten floor\"\\nJudge Steven Leifman says most are there as a result of \"avoidable felonies\"\\nWhile CNN tours facility, patient shouts: \"I am the son of the president\"\\nLeifman says the system is unjust and he's fighting for change .</td>\n",
              "    </tr>\n",
              "  </tbody>\n",
              "</table>"
            ]
          },
          "metadata": {}
        }
      ]
    },
    {
      "cell_type": "code",
      "source": [
        "plot_tokens_count(data_.article, data_.highlights)"
      ],
      "metadata": {
        "colab": {
          "base_uri": "https://localhost:8080/",
          "height": 319
        },
        "id": "ANBBCo6DXmaN",
        "outputId": "f689ef97-6141-4443-c03d-e5f9c0e2b765"
      },
      "execution_count": 18,
      "outputs": [
        {
          "output_type": "display_data",
          "data": {
            "text/plain": [
              "<Figure size 1152x432 with 2 Axes>"
            ],
            "image/png": "[encoded data removed]"
          },
          "metadata": {}
        }
      ]
    },
    {
      "cell_type": "code",
      "source": [
        "df = data_[:20]"
      ],
      "metadata": {
        "id": "Ary4T8_8STrq"
      },
      "execution_count": null,
      "outputs": []
    },
    {
      "cell_type": "markdown",
      "source": [
        "### Config"
      ],
      "metadata": {
        "id": "Ux-d9vnodhTz"
      }
    },
    {
      "cell_type": "code",
      "source": [
        "class Config:\n",
        "  EPOCHS = 4\n",
        "  MAX_LEN = 512\n",
        "  HIG_MAX_LEN = 64\n",
        "  ART_MAX_LEN = 512\n",
        "  LEARNING_RATE = 3e-5\n",
        "  TRAIN_BATCH_SIZE = 4\n",
        "  VALID_BATCH_SIZE = 4\n",
        "  DEVICE = torch.device(\"cuda\" if torch.cuda.is_available() else \"cpu\")\n",
        "\n",
        "  CHECKPOINT = \"t5-base\"\n",
        "  MODEL_PATH = \"t5ass.bin\"\n",
        "\n",
        "  TOKENIZER = T5Tokenizer.from_pretrained(CHECKPOINT)\n",
        "  MODEL = T5ForConditionalGeneration.from_pretrained(CHECKPOINT, return_dict=True)"
      ],
      "metadata": {
        "id": "6_N8ouRXdtR4",
        "colab": {
          "base_uri": "https://localhost:8080/",
          "height": 113,
          "referenced_widgets": [
            "cc4f92ddd33c4295a53ea6ff0ce930f0",
            "cfeb29e50a1d47ef9fd6ede7a23f92ce",
            "ff626c365c724f81bac1a34bdeb392c9",
            "9ebbd78e7d664323a7c3a30fbea14497",
            "18ec522ba8924b90a495abd8f71a5c29",
            "e6b4ab3aa163404da3a8b090371a05d4",
            "8a936ac6622c46898725ab8a3cd27d32",
            "1e271dba29a247c7aefd39d18b314862",
            "d4a3e709534e4655bdc98f4244487df3",
            "630c274a20ab4faa91a36a9240980b18",
            "079c2e6b39ad4fb59f7694830b997cc6",
            "cacc1b121e4c497c8812c2851f6faee1",
            "0b18d5e0331e4b06a54fd3c752f24130",
            "7aa6d692f2cf47149386564b143d613e",
            "ad59064bd3704539a2245a2f3348d34a",
            "48d051031a6248d38b254d97feadbd23",
            "769a54425e284f7197442379d5233416",
            "f2e22ca9b50a4676aed9789627a44dbf",
            "01c3ca3f6405439780ab6ee03936fabd",
            "20a925ebf5374a78b19eecbd5b0e5560",
            "dece73bb854a4d6c9af6a05ea1b59a0c",
            "08f701f87c73487294bf635132c48a5e",
            "705381a7d6654703b1150b17d4074e9d",
            "b2c3fc92829949e1b12a64dd9a6c8874",
            "bdef1c9769b549698689042a0aa09a4a",
            "d20194248c0041cbb8b442d224a58524",
            "c130d64bfe984a5990901c6501dc22be",
            "ca2c15d39ad94a9b862eadae66fb43c8",
            "ce8cc578fb8442b0b95ee150e86e1463",
            "a8b8a4cd0483482fb1fcfe2419580881",
            "8448e093892c4e2292c8347b2e427b0b",
            "effda58fd8f143c294ff4b58545e6f63",
            "bc5d3887befa4a599b3ed5a3a4f71f03"
          ]
        },
        "outputId": "54a2cba0-8220-40e3-c2a2-3ee055f7bdca"
      },
      "execution_count": null,
      "outputs": [
        {
          "output_type": "display_data",
          "data": {
            "text/plain": [
              "Downloading:   0%|          | 0.00/792k [00:00<?, ?B/s]"
            ],
            "application/vnd.jupyter.widget-view+json": {
              "version_major": 2,
              "version_minor": 0,
              "model_id": "cc4f92ddd33c4295a53ea6ff0ce930f0"
            }
          },
          "metadata": {}
        },
        {
          "output_type": "display_data",
          "data": {
            "text/plain": [
              "Downloading:   0%|          | 0.00/1.21k [00:00<?, ?B/s]"
            ],
            "application/vnd.jupyter.widget-view+json": {
              "version_major": 2,
              "version_minor": 0,
              "model_id": "cacc1b121e4c497c8812c2851f6faee1"
            }
          },
          "metadata": {}
        },
        {
          "output_type": "display_data",
          "data": {
            "text/plain": [
              "Downloading:   0%|          | 0.00/892M [00:00<?, ?B/s]"
            ],
            "application/vnd.jupyter.widget-view+json": {
              "version_major": 2,
              "version_minor": 0,
              "model_id": "705381a7d6654703b1150b17d4074e9d"
            }
          },
          "metadata": {}
        }
      ]
    },
    {
      "cell_type": "markdown",
      "source": [
        "### Dataset"
      ],
      "metadata": {
        "id": "1oPQWGL8dtz9"
      }
    },
    {
      "cell_type": "code",
      "source": [
        "class CNNDailyMailDataset(Dataset):\n",
        "  def __init__(self, article, highlights):\n",
        "    self.article = article\n",
        "    self.highlights = highlights\n",
        "\n",
        "    self.tokenizer = Config.TOKENIZER\n",
        "    self.art_max_len = Config.ART_MAX_LEN\n",
        "    self.hig_max_len = Config.ART_MAX_LEN\n",
        "\n",
        "  def __len__(self):\n",
        "    return len(self.highlights)\n",
        "\n",
        "  def __getitem__(self, index):\n",
        "    article = str(self.article[index])\n",
        "    highlights = str(self.highlights[index])\n",
        "\n",
        "    article = \" \".join(article.split())\n",
        "    highlights = \" \".join(highlights.split())\n",
        "\n",
        "    article_inputs = self.tokenizer.batch_encode_plus(\n",
        "        [article],\n",
        "        max_length=self.art_max_len,\n",
        "        pad_to_max_length=True,\n",
        "        truncation=True,\n",
        "        padding=\"max_length\"\n",
        "        )\n",
        "    highlights_inputs = self.tokenizer.batch_encode_plus(\n",
        "        [highlights],\n",
        "        max_length=self.hig_max_len,\n",
        "        pad_to_max_length=True,\n",
        "        truncation=True,\n",
        "        padding=\"max_length\"\n",
        "        )\n",
        "    \n",
        "    article_input_ids = article_inputs[\"input_ids\"]\n",
        "    article_attention_mask = article_inputs[\"attention_mask\"]\n",
        "    \n",
        "    highlights_input_ids = highlights_inputs[\"input_ids\"]\n",
        "    highlights_attention_mask = highlights_inputs[\"attention_mask\"]\n",
        "    \n",
        "    labels = [label if label != 0 else -100 for label in highlights_input_ids]\n",
        "\n",
        "    return {\n",
        "        \"article_ids\": torch.tensor(highlights_input_ids, dtype=torch.long).squeeze(),\n",
        "        \"article_mask\": torch.tensor(article_attention_mask, dtype=torch.long).squeeze(),\n",
        "        \"highlights_ids\": torch.tensor(highlights_input_ids, dtype=torch.long).squeeze(),\n",
        "        \"highlights_mask\": torch.tensor(highlights_attention_mask, dtype=torch.long).squeeze(),\n",
        "        \"labels\": torch.tensor(labels, dtype=torch.long).squeeze(),\n",
        "    }"
      ],
      "metadata": {
        "id": "DR0fm8E7djBi"
      },
      "execution_count": null,
      "outputs": []
    },
    {
      "cell_type": "markdown",
      "source": [
        "### Model"
      ],
      "metadata": {
        "id": "EXP2AP2ZrW4q"
      }
    },
    {
      "cell_type": "code",
      "source": [
        "class CNNDailyMailModel(nn.Module):\n",
        "  def __init__(self):\n",
        "    super().__init__()\n",
        "    self.model = Config.MODEL\n",
        "\n",
        "  def forward(self, input_ids, attention_mask, decoder_attention_mask, labels=None):\n",
        "    output = self.model(\n",
        "        input_ids=input_ids,\n",
        "        attention_mask=attention_mask,\n",
        "        decoder_attention_mask=decoder_attention_mask,\n",
        "        labels=labels,\n",
        "    )\n",
        "    return output.loss, output.logits"
      ],
      "metadata": {
        "id": "bqoNERA_rVgC"
      },
      "execution_count": null,
      "outputs": []
    },
    {
      "cell_type": "markdown",
      "source": [
        "### Engine"
      ],
      "metadata": {
        "id": "A8fWofm-rZlx"
      }
    },
    {
      "cell_type": "code",
      "source": [
        "def train_fn(train_dataloader, model, optimizer, device):\n",
        "  model.train()\n",
        "  final_loss = 0\n",
        "  fin_labels = []\n",
        "  fin_outputs = []\n",
        "  for data in tqdm(train_dataloader, total=len(train_dataloader)):\n",
        "    art_ids = data[\"article_ids\"].to(device)\n",
        "    art_mask = data[\"article_mask\"].to(device)\n",
        "    \n",
        "    labels = data[\"labels\"].to(device)\n",
        "    labels_attention_mask = data[\"highlights_mask\"].to(device)\n",
        "\n",
        "    loss, logits = model(\n",
        "        input_ids=art_ids,\n",
        "        attention_mask=art_mask,\n",
        "        decoder_attention_mask=labels_attention_mask,\n",
        "        labels =  labels\n",
        "        )\n",
        "    final_loss += loss.item()\n",
        "    \n",
        "    optimizer.zero_grad()\n",
        "    loss.backward()\n",
        "    optimizer.step()\n",
        "  return final_loss/len(train_dataloader)\n",
        "\n",
        "\n",
        "def eval_fn(valid_dataloader, model, device):\n",
        "  model.eval()\n",
        "  final_loss = 0\n",
        "  decoded_labels = []\n",
        "  decoded_preds = []\n",
        "  with torch.no_grad():\n",
        "    for data in tqdm(valid_dataloader, total=len(valid_dataloader)):\n",
        "      art_ids = data[\"article_ids\"].to(device)\n",
        "      art_mask = data[\"article_mask\"].to(device)\n",
        "      \n",
        "      labels = data[\"labels\"].to(device)\n",
        "      labels_attention_mask = data[\"highlights_mask\"].to(device)\n",
        "\n",
        "      loss, logits = model(\n",
        "          input_ids=art_ids,\n",
        "          attention_mask=art_mask,\n",
        "          decoder_attention_mask=labels_attention_mask,\n",
        "          labels =  labels\n",
        "          )\n",
        "      final_loss += loss.item()\n",
        "      \n",
        "      generated_ids = model.model.generate(\n",
        "          input_ids = art_ids,\n",
        "          attention_mask = art_mask,\n",
        "          max_length=150,\n",
        "          num_beams=2,\n",
        "          repetition_penalty=2.5,\n",
        "          length_penalty=1.0,\n",
        "          early_stopping=True\n",
        "          )\n",
        "      \n",
        "      # Replace -100 in the labels as we can't decode them.\n",
        "      labels = torch.where(labels != -100, labels, Config.TOKENIZER.pad_token_id)\n",
        "      \n",
        "      decoded_preds.extend([Config.TOKENIZER.decode(g, skip_special_tokens=True, clean_up_tokenization_spaces=True) for g in generated_ids])\n",
        "      decoded_labels.extend([Config.TOKENIZER.decode(t, skip_special_tokens=True, clean_up_tokenization_spaces=True)for t in labels])\n",
        "\n",
        "  return decoded_preds, decoded_labels, final_loss/len(valid_dataloader)"
      ],
      "metadata": {
        "id": "GWB26izxrb2B"
      },
      "execution_count": null,
      "outputs": []
    },
    {
      "cell_type": "markdown",
      "source": [
        "### Train"
      ],
      "metadata": {
        "id": "nFD7C8au0L64"
      }
    },
    {
      "cell_type": "code",
      "source": [
        "train_df, test_df = train_test_split(df, test_size=0.2)\n",
        "\n",
        "train_dataset = CNNDailyMailDataset(\n",
        "    article=train_df[\"article\"].values,\n",
        "    highlights=train_df[\"highlights\"].values,\n",
        ")\n",
        "\n",
        "valid_dataset = CNNDailyMailDataset(\n",
        "    article=test_df[\"article\"].values,\n",
        "    highlights=test_df[\"highlights\"].values,\n",
        ")"
      ],
      "metadata": {
        "id": "53oBh03Zr5b6"
      },
      "execution_count": null,
      "outputs": []
    },
    {
      "cell_type": "code",
      "source": [
        "train_dataloader = DataLoader(train_dataset, \n",
        "                              batch_size=Config.TRAIN_BATCH_SIZE, \n",
        "                              shuffle=True, \n",
        "                              num_workers=0\n",
        "                              )\n",
        "\n",
        "valid_dataloader = DataLoader(valid_dataset, \n",
        "                              batch_size=Config.VALID_BATCH_SIZE, \n",
        "                              shuffle=True, \n",
        "                              num_workers=0)"
      ],
      "metadata": {
        "id": "cW7GOk7bbuDb"
      },
      "execution_count": null,
      "outputs": []
    },
    {
      "cell_type": "code",
      "source": [
        "model = CNNDailyMailModel()\n",
        "model = model.to(Config.DEVICE)\n",
        "optimizer = torch.optim.Adam(model.parameters(), lr=Config.LEARNING_RATE)"
      ],
      "metadata": {
        "id": "X5a-5HpYdJN_"
      },
      "execution_count": null,
      "outputs": []
    },
    {
      "cell_type": "code",
      "source": [
        "history = defaultdict(list)\n",
        "best_loss = np.inf\n",
        "\n",
        "for epoch in range(1, Config.EPOCHS+1):\n",
        "  train_loss = train_fn(train_dataloader, model, optimizer, Config.DEVICE)\n",
        "  decoded_preds, decoded_labels, valid_loss = eval_fn(valid_dataloader, model, Config.DEVICE)\n",
        "  \n",
        "  print(f\"Train Loss: {train_loss}, Valid Loss: {valid_loss}\\n\")\n",
        "  \n",
        "  history['Train Loss'].append(train_loss)\n",
        "  history['Valid Loss'].append(valid_loss)\n",
        "\n",
        "  if valid_loss < best_loss:\n",
        "    torch.save(model.state_dict(), Config.MODEL_PATH)\n",
        "    best_loss = valid_loss"
      ],
      "metadata": {
        "id": "VXL2JSKg02i1",
        "colab": {
          "base_uri": "https://localhost:8080/"
        },
        "outputId": "669b72d8-b6ff-476b-bda9-fc393a212b77"
      },
      "execution_count": null,
      "outputs": [
        {
          "output_type": "stream",
          "name": "stderr",
          "text": [
            "100%|██████████| 4/4 [00:04<00:00,  1.10s/it]\n",
            "100%|██████████| 1/1 [00:07<00:00,  7.14s/it]\n"
          ]
        },
        {
          "output_type": "stream",
          "name": "stdout",
          "text": [
            "Train Loss: 0.1490471065044403, Valid Loss: 0.09847196191549301\n",
            "\n"
          ]
        },
        {
          "output_type": "stream",
          "name": "stderr",
          "text": [
            "100%|██████████| 4/4 [00:04<00:00,  1.10s/it]\n",
            "100%|██████████| 1/1 [00:04<00:00,  4.84s/it]\n"
          ]
        },
        {
          "output_type": "stream",
          "name": "stdout",
          "text": [
            "Train Loss: 0.10974743589758873, Valid Loss: 0.084042988717556\n",
            "\n"
          ]
        },
        {
          "output_type": "stream",
          "name": "stderr",
          "text": [
            "100%|██████████| 4/4 [00:04<00:00,  1.10s/it]\n",
            "100%|██████████| 1/1 [00:07<00:00,  7.43s/it]\n"
          ]
        },
        {
          "output_type": "stream",
          "name": "stdout",
          "text": [
            "Train Loss: 0.08739162608981133, Valid Loss: 0.07325084507465363\n",
            "\n"
          ]
        },
        {
          "output_type": "stream",
          "name": "stderr",
          "text": [
            "100%|██████████| 4/4 [00:04<00:00,  1.11s/it]\n",
            "100%|██████████| 1/1 [00:04<00:00,  4.81s/it]\n"
          ]
        },
        {
          "output_type": "stream",
          "name": "stdout",
          "text": [
            "Train Loss: 0.07327300310134888, Valid Loss: 0.0633130744099617\n",
            "\n"
          ]
        }
      ]
    },
    {
      "cell_type": "markdown",
      "source": [
        "### Evaluation"
      ],
      "metadata": {
        "id": "jJa0BrcciVr7"
      }
    },
    {
      "cell_type": "code",
      "source": [
        "def loss_curve(train_loss, valid_loss):\n",
        "  sns.set(style='darkgrid')\n",
        "  sns.set(font_scale=1)\n",
        "  plt.rcParams[\"figure.figsize\"] = (12, 4)\n",
        "  plt.plot(train_loss, 'b-o', label=\"Training Loss\")\n",
        "  plt.plot(valid_loss, 'r-o', label=\"Validation Loss\")\n",
        "  plt.title(\"Learning Curve\")\n",
        "  plt.xlabel(\"Epoch\")\n",
        "  plt.ylabel(\"Loss\")\n",
        "  plt.legend()\n",
        "  plt.show();"
      ],
      "metadata": {
        "id": "aHMN5FvEe8q6"
      },
      "execution_count": null,
      "outputs": []
    },
    {
      "cell_type": "code",
      "source": [
        "loss_curve(\n",
        "    history['Train Loss'], \n",
        "    history['Valid Loss']\n",
        "    ) "
      ],
      "metadata": {
        "colab": {
          "base_uri": "https://localhost:8080/",
          "height": 269
        },
        "id": "po---Tnni4oY",
        "outputId": "7871cd56-628a-4f71-c2ec-ec2f8927922b"
      },
      "execution_count": null,
      "outputs": [
        {
          "output_type": "display_data",
          "data": {
            "text/plain": [
              "<Figure size 864x288 with 1 Axes>"
            ],
            "image/png": "[encoded data removed]"
          },
          "metadata": {}
        }
      ]
    },
    {
      "cell_type": "code",
      "source": [
        "metrics = get_metrics(decoded_preds, decoded_labels, metric=\"rouge\")\n",
        "metrics"
      ],
      "metadata": {
        "colab": {
          "base_uri": "https://localhost:8080/",
          "height": 81
        },
        "id": "MdG7glrC339S",
        "outputId": "a60ed0f3-9dfd-4630-bcaa-f6826442db49"
      },
      "execution_count": null,
      "outputs": [
        {
          "output_type": "execute_result",
          "data": {
            "text/plain": [
              "          Rouge1  Rouge2   Rougel  Rougelsum  Genlen\n",
              "Results  58.1348  53.202  55.9128    55.8825     1.0"
            ],
            "text/html": [
              "\n",
              "  <div id=\"df-5c73f972-2496-4586-8ddc-3d3d36a3a33c\">\n",
              "    <div class=\"colab-df-container\">\n",
              "      <div>\n",
              "<style scoped>\n",
              "    .dataframe tbody tr th:only-of-type {\n",
              "        vertical-align: middle;\n",
              "    }\n",
              "\n",
              "    .dataframe tbody tr th {\n",
              "        vertical-align: top;\n",
              "    }\n",
              "\n",
              "    .dataframe thead th {\n",
              "        text-align: right;\n",
              "    }\n",
              "</style>\n",
              "<table border=\"1\" class=\"dataframe\">\n",
              "  <thead>\n",
              "    <tr style=\"text-align: right;\">\n",
              "      <th></th>\n",
              "      <th>Rouge1</th>\n",
              "      <th>Rouge2</th>\n",
              "      <th>Rougel</th>\n",
              "      <th>Rougelsum</th>\n",
              "      <th>Genlen</th>\n",
              "    </tr>\n",
              "  </thead>\n",
              "  <tbody>\n",
              "    <tr>\n",
              "      <th>Results</th>\n",
              "      <td>58.1348</td>\n",
              "      <td>53.202</td>\n",
              "      <td>55.9128</td>\n",
              "      <td>55.8825</td>\n",
              "      <td>1.0</td>\n",
              "    </tr>\n",
              "  </tbody>\n",
              "</table>\n",
              "</div>\n",
              "      <button class=\"colab-df-convert\" onclick=\"convertToInteractive('df-5c73f972-2496-4586-8ddc-3d3d36a3a33c')\"\n",
              "              title=\"Convert this dataframe to an interactive table.\"\n",
              "              style=\"display:none;\">\n",
              "        \n",
              "  <svg xmlns=\"http://www.w3.org/2000/svg\" height=\"24px\"viewBox=\"0 0 24 24\"\n",
              "       width=\"24px\">\n",
              "    <path d=\"M0 0h24v24H0V0z\" fill=\"none\"/>\n",
              "    <path d=\"M18.56 5.44l.94 2.06.94-2.06 2.06-.94-2.06-.94-.94-2.06-.94 2.06-2.06.94zm-11 1L8.5 8.5l.94-2.06 2.06-.94-2.06-.94L8.5 2.5l-.94 2.06-2.06.94zm10 10l.94 2.06.94-2.06 2.06-.94-2.06-.94-.94-2.06-.94 2.06-2.06.94z\"/><path d=\"M17.41 7.96l-1.37-1.37c-.4-.4-.92-.59-1.43-.59-.52 0-1.04.2-1.43.59L10.3 9.45l-7.72 7.72c-.78.78-.78 2.05 0 2.83L4 21.41c.39.39.9.59 1.41.59.51 0 1.02-.2 1.41-.59l7.78-7.78 2.81-2.81c.8-.78.8-2.07 0-2.86zM5.41 20L4 18.59l7.72-7.72 1.47 1.35L5.41 20z\"/>\n",
              "  </svg>\n",
              "      </button>\n",
              "      \n",
              "  <style>\n",
              "    .colab-df-container {\n",
              "      display:flex;\n",
              "      flex-wrap:wrap;\n",
              "      gap: 12px;\n",
              "    }\n",
              "\n",
              "    .colab-df-convert {\n",
              "      background-color: #E8F0FE;\n",
              "      border: none;\n",
              "      border-radius: 50%;\n",
              "      cursor: pointer;\n",
              "      display: none;\n",
              "      fill: #1967D2;\n",
              "      height: 32px;\n",
              "      padding: 0 0 0 0;\n",
              "      width: 32px;\n",
              "    }\n",
              "\n",
              "    .colab-df-convert:hover {\n",
              "      background-color: #E2EBFA;\n",
              "      box-shadow: 0px 1px 2px rgba(60, 64, 67, 0.3), 0px 1px 3px 1px rgba(60, 64, 67, 0.15);\n",
              "      fill: #174EA6;\n",
              "    }\n",
              "\n",
              "    [theme=dark] .colab-df-convert {\n",
              "      background-color: #3B4455;\n",
              "      fill: #D2E3FC;\n",
              "    }\n",
              "\n",
              "    [theme=dark] .colab-df-convert:hover {\n",
              "      background-color: #434B5C;\n",
              "      box-shadow: 0px 1px 3px 1px rgba(0, 0, 0, 0.15);\n",
              "      filter: drop-shadow(0px 1px 2px rgba(0, 0, 0, 0.3));\n",
              "      fill: #FFFFFF;\n",
              "    }\n",
              "  </style>\n",
              "\n",
              "      <script>\n",
              "        const buttonEl =\n",
              "          document.querySelector('#df-5c73f972-2496-4586-8ddc-3d3d36a3a33c button.colab-df-convert');\n",
              "        buttonEl.style.display =\n",
              "          google.colab.kernel.accessAllowed ? 'block' : 'none';\n",
              "\n",
              "        async function convertToInteractive(key) {\n",
              "          const element = document.querySelector('#df-5c73f972-2496-4586-8ddc-3d3d36a3a33c');\n",
              "          const dataTable =\n",
              "            await google.colab.kernel.invokeFunction('convertToInteractive',\n",
              "                                                     [key], {});\n",
              "          if (!dataTable) return;\n",
              "\n",
              "          const docLinkHtml = 'Like what you see? Visit the ' +\n",
              "            '<a target=\"_blank\" href=https://colab.research.google.com/notebooks/data_table.ipynb>data table notebook</a>'\n",
              "            + ' to learn more about interactive tables.';\n",
              "          element.innerHTML = '';\n",
              "          dataTable['output_type'] = 'display_data';\n",
              "          await google.colab.output.renderOutput(dataTable, element);\n",
              "          const docLink = document.createElement('div');\n",
              "          docLink.innerHTML = docLinkHtml;\n",
              "          element.appendChild(docLink);\n",
              "        }\n",
              "      </script>\n",
              "    </div>\n",
              "  </div>\n",
              "  "
            ]
          },
          "metadata": {},
          "execution_count": 59
        }
      ]
    },
    {
      "cell_type": "markdown",
      "source": [
        "### Inference"
      ],
      "metadata": {
        "id": "Ok58Hwv_iYMR"
      }
    },
    {
      "cell_type": "code",
      "source": [
        "class Process:\n",
        "  def __init__(self, article_text):\n",
        "    self.article_text = article_text\n",
        "    self.art_max_len = Config.ART_MAX_LEN\n",
        "    self.tokenizer = Config.TOKENIZER\n",
        "\n",
        "\n",
        "  def pre_process(self):\n",
        "    article_text = str(self.article_text)\n",
        "    article_text = \" \".join(article_text.split())\n",
        "\n",
        "    inputs = self.tokenizer.batch_encode_plus(\n",
        "        [article_text],\n",
        "        max_length=self.art_max_len,\n",
        "        pad_to_max_length=True,\n",
        "        truncation=True,\n",
        "        padding=\"max_length\"\n",
        "        )\n",
        "    \n",
        "    input_ids = inputs[\"input_ids\"]\n",
        "    attention_mask = inputs[\"attention_mask\"]\n",
        "\n",
        "    return (\n",
        "        torch.tensor(input_ids, dtype=torch.long),\n",
        "        torch.tensor(attention_mask, dtype=torch.long)\n",
        "        )\n",
        "\n",
        "  def post_process(self, generated_ids):\n",
        "    preds = [\n",
        "        self.tokenizer.decode(generated_id, skip_special_tokens=True, clean_up_tokenization_spaces=True)\n",
        "        for generated_id in generated_ids\n",
        "        ]\n",
        "    return \" \".join(preds)"
      ],
      "metadata": {
        "id": "kWiTtpAkj4__"
      },
      "execution_count": null,
      "outputs": []
    },
    {
      "cell_type": "code",
      "source": [
        "model = CNNDailyMailModel()\n",
        "model.to(Config.DEVICE)\n",
        "model.load_state_dict(\n",
        "    torch.load(\n",
        "        Config.MODEL_PATH,\n",
        "        map_location=torch.device(Config.DEVICE)\n",
        "        )\n",
        "    )\n",
        "\n",
        "\n",
        "def get_important_paragh(article_text):\n",
        "  data = Process(article_text)\n",
        "  input_ids, attention_mask = data.pre_process()\n",
        "  input_ids = input_ids.to(Config.DEVICE)\n",
        "  attention_mask = attention_mask.to(Config.DEVICE)\n",
        "\n",
        "  with torch.no_grad():\n",
        "    generated_ids = model.model.generate(\n",
        "        input_ids = input_ids,\n",
        "        attention_mask = attention_mask,\n",
        "        max_length=150,\n",
        "        num_beams=2,\n",
        "        repetition_penalty=2.5,\n",
        "        length_penalty=1.0,\n",
        "        early_stopping=True\n",
        "    )\n",
        "\n",
        "  predicted_high = data.post_process(generated_ids)\n",
        "  return predicted_high"
      ],
      "metadata": {
        "id": "fTKDg-1SiaUr"
      },
      "execution_count": null,
      "outputs": []
    },
    {
      "cell_type": "code",
      "source": [
        "article_text = \"\"\"\n",
        "          The tower is 324 metres (1,063 ft) tall, about the same height as an \n",
        "          81-storey building, and the tallest structure in Paris. Its base is \n",
        "          square, measuring 125 metres (410 ft) on each side. During its construction,\n",
        "          the Eiffel Tower surpassed the Washington Monument to become the tallest \n",
        "          man-made structure in the world, a title it held for 41 years until the Chrysler\n",
        "          Building in New York City was finished in 1930. It was the first structure to \n",
        "          reach a height of 300 metres. Due to the addition of a broadcasting aerial at \n",
        "          the top of the tower in 1957, it is now taller than the Chrysler Building by 5.2 \n",
        "          metres (17 ft). Excluding transmitters, the Eiffel Tower is the second tallest \n",
        "          free-standing structure in France after the Millau Viaduct.\n",
        "       \"\"\""
      ],
      "metadata": {
        "id": "1uPb4TEmo3Ce"
      },
      "execution_count": null,
      "outputs": []
    },
    {
      "cell_type": "code",
      "source": [
        "important_paragh = get_important_paragh(article_text)\n",
        "important_paragh"
      ],
      "metadata": {
        "colab": {
          "base_uri": "https://localhost:8080/",
          "height": 53
        },
        "id": "JwtPhzYCp2Sa",
        "outputId": "66cd9b67-965d-4c41-e05e-bcec7580e951"
      },
      "execution_count": null,
      "outputs": [
        {
          "output_type": "execute_result",
          "data": {
            "text/plain": [
              "'the tallest man-made structure in the world. It is 324 metres (1,063 ft) tall and measures 125 metres (410 ft) on each side.'"
            ],
            "application/vnd.google.colaboratory.intrinsic+json": {
              "type": "string"
            }
          },
          "metadata": {},
          "execution_count": 46
        }
      ]
    },
    {
      "cell_type": "markdown",
      "source": [
        "> ### Using the [URL](https://www.theguardian.com/world/2023/jan/19/three-children-among-six-killed-during-indian-kite-flying-festival)"
      ],
      "metadata": {
        "id": "wYcBtLYeJx_z"
      }
    },
    {
      "cell_type": "code",
      "source": [
        "import requests\n",
        "from bs4 import BeautifulSoup\n",
        "\n",
        "def get_url_paragraphs(url):\n",
        "  response = requests.get(url)\n",
        "  soup = BeautifulSoup(response.text, 'html.parser')\n",
        "  # Find all <p> tags and extract their text\n",
        "  paragraphs = [p.get_text() for p in soup.find_all('p')]\n",
        "  return \" \".join(paragraphs)"
      ],
      "metadata": {
        "id": "EWrSEUFJFh46"
      },
      "execution_count": null,
      "outputs": []
    },
    {
      "cell_type": "code",
      "source": [
        "url = 'https://www.theguardian.com/world/2023/jan/19/three-children-among-six-killed-during-indian-kite-flying-festival'\n",
        "\n",
        "paragraphs = get_url_paragraphs(url)\n",
        "paragraphs_text"
      ],
      "metadata": {
        "colab": {
          "base_uri": "https://localhost:8080/",
          "height": 244
        },
        "id": "nK-pG2K8IcjV",
        "outputId": "4a26a969-5e07-4cb6-d1db-ab3220b30a6f"
      },
      "execution_count": null,
      "outputs": [
        {
          "output_type": "execute_result",
          "data": {
            "text/plain": [
              "'Victims reportedly bled to death when glass-coated strings were entangled around their necks Six people, including three children, have died after their throats were cut by glass-coated kite strings during an annual kite-flying festival in India. Hundreds flocked to terraces and rooftops to unfurl their kites towards the sky at the Uttarayan festival in the western Indian state of Gujarat over the weekend. The victims reportedly bled to death when the razor-sharp kite strings became entangled around their necks, officials told the Press Trust of India (PTI). At least another 176 people were injured due to cuts and falls. Some participants are known to coat their kite strings with powdered glass in order to slice their opponent’s cords while in the air. Although the practice has been banned since 2016, critics say it is rarely enforced. A two-year-old girl reportedly died after a kite string struck her neck while riding on a scooter with her father, PTI cited an official from Bortalav police station as saying. The girl, known only as Kirti, is said to have died during treatment at a hospital on Sunday. Another girl, aged three, was walking home with her mother in Visnagar town on Saturday when a string cut her neck. She was taken to hospital but was declared dead on arrival, a Visnagar police official said. Rishabh Verma, a seven-year-old boy riding on a scooter with his parents, was also struck by a string in Rajkot, an official from Aji Dam police station said. 🔸અમદાવાદમાં ઉત્તરાયણને ધ્યાનમાં રાખી ચુસ્ત પોલીસ બંદોબસ્ત ગોઠવવામાં આવ્યો છે🔸6,000 પોલીસ અધિકારી, કર્મચારીઓ અને 4,000 હોમગાર્ડના જવાનો ખડેપગે રહેશે🔸ચાઈનીઝ દોરી અંગે લોકોને જાગૃત કરવા પોલીસે 175 જેટલી જાગૃતિ સભા પણ યોજી @AhmedabadPolice @sanghaviharsh #Uttrayan #Gujarat pic.twitter.com/adVHjenAyH According to police, similar incidents were reported in Vadodara, Kutch and Gandhinagar districts, where three men were killed in similar circumstances. Nikunj Sharma, a campaigner for People for the Ethical Treatment of Animals (Peta) India, previously told the Guardian the use of manja, the nylon string used to fly kites instead of cotton, could make injuries severe. “Unlike cotton strings these are non-biodegradable, don’t break easily and continue to cause injuries months after the festival,” Sharma said. In Ahmedabad, Gujarat’s largest city, the police department warned against using the coated kites at the festival. “Do not use deadly Chinese manja to fly kites,” it said. Police urged participants to be careful while flying kites during the festival, saying the “momentary fun” of cutting another kite could come at the cost of someone’s life. However, Jayesh Shinde, an activist campaigning against the use of manja, said the government had failed to uphold the ban and should compensate victims for their treatment. “Citizens should not have to pay for the lackadaisical attitude of the government machinery. If the official ban is not being implemented, then the government should offer compensation to victims,” the Times of India quoted Shinde as saying. The popular festival marks the onset of spring where kite-flying is often used during celebrations across the country. Hundreds of birds also fly into the kite strings or are entangled in them, causing deep cuts to their wings, nerve injuries, fractures, dislocations and, in many cases, death.'"
            ],
            "application/vnd.google.colaboratory.intrinsic+json": {
              "type": "string"
            }
          },
          "metadata": {},
          "execution_count": 78
        }
      ]
    },
    {
      "cell_type": "code",
      "source": [
        "len(paragraphs_text)"
      ],
      "metadata": {
        "colab": {
          "base_uri": "https://localhost:8080/"
        },
        "id": "W3lanOywLcdn",
        "outputId": "84314113-68f6-47ce-f4d1-d9f129ce8958"
      },
      "execution_count": null,
      "outputs": [
        {
          "output_type": "execute_result",
          "data": {
            "text/plain": [
              "3354"
            ]
          },
          "metadata": {},
          "execution_count": 81
        }
      ]
    },
    {
      "cell_type": "code",
      "source": [
        "important_paragh = get_important_paragh(paragraphs_text)\n",
        "important_paragh"
      ],
      "metadata": {
        "colab": {
          "base_uri": "https://localhost:8080/",
          "height": 70
        },
        "id": "OYlgIXLbHcdG",
        "outputId": "ce3cc673-3115-42ab-fed8-4f3ccc68b66e"
      },
      "execution_count": null,
      "outputs": [
        {
          "output_type": "execute_result",
          "data": {
            "text/plain": [
              "'Kirti died during treatment at a hospital on Sunday. Another girl, aged three, was walking home with her mother in Visnagar town on Saturday when a string cut her neck. At least another 176 people were injured due to cuts and falls.'"
            ],
            "application/vnd.google.colaboratory.intrinsic+json": {
              "type": "string"
            }
          },
          "metadata": {},
          "execution_count": 79
        }
      ]
    },
    {
      "cell_type": "code",
      "source": [
        "len(important_paragh)"
      ],
      "metadata": {
        "colab": {
          "base_uri": "https://localhost:8080/"
        },
        "id": "mswq3HFRLfEC",
        "outputId": "7e6c3511-d8b8-48f0-bc09-5ece379269bb"
      },
      "execution_count": null,
      "outputs": [
        {
          "output_type": "execute_result",
          "data": {
            "text/plain": [
              "232"
            ]
          },
          "metadata": {},
          "execution_count": 82
        }
      ]
    },
    {
      "cell_type": "code",
      "source": [
        "# torch.save(model.state_dict(), \"/content/drive/MyDrive/\" + Config.MODEL_PATH)"
      ],
      "metadata": {
        "id": "QadZ3ay-JS89"
      },
      "execution_count": null,
      "outputs": []
    },
    {
      "cell_type": "code",
      "source": [],
      "metadata": {
        "id": "vicBp4zufPTi"
      },
      "execution_count": null,
      "outputs": []
    }
  ]
}